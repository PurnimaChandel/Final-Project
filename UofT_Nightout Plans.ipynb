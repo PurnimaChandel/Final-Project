{
 "cells": [
  {
   "cell_type": "code",
   "execution_count": 16,
   "metadata": {},
   "outputs": [],
   "source": [
    "\n",
    "%matplotlib notebook\n",
    "\n",
    "# Dependencies\n",
    "import json\n",
    "import pprint\n",
    "import requests\n",
    "#import sys\n",
    "import pandas as pd\n",
    "import numpy as np\n",
    "import time\n",
    "import matplotlib.pyplot as plt\n",
    "\n",
    "#api keys\n",
    "from config import API_Key\n"
   ]
  },
  {
   "cell_type": "code",
   "execution_count": 42,
   "metadata": {},
   "outputs": [],
   "source": [
    "uoft_lat= 43.6629\n",
    "uoft_lon= -79.3957\n",
    "base_url= \"https://api.yelp.com/v3/autocomplete?text=del&latitude=43.39&longitude=-79.23\"\n",
    "headers = {'Authorization': 'Bearer {}'.format(API_Key),}"
   ]
  },
  {
   "cell_type": "code",
   "execution_count": 43,
   "metadata": {},
   "outputs": [
    {
     "name": "stdout",
     "output_type": "stream",
     "text": [
      "{'categories': [{'alias': 'delis', 'title': 'Delis'}, {'alias': 'fooddeliveryservices', 'title': 'Food Delivery Services'}, {'alias': 'couriers', 'title': 'Couriers & Delivery Services'}], 'businesses': [], 'terms': [{'text': 'Delivery'}, {'text': 'Pizza Delivery'}, {'text': 'Delivery Food'}]}\n"
     ]
    }
   ],
   "source": [
    "response = requests.get(base_url, headers=headers).json()\n",
    "print(response)"
   ]
  },
  {
   "cell_type": "code",
   "execution_count": 44,
   "metadata": {},
   "outputs": [
    {
     "name": "stdout",
     "output_type": "stream",
     "text": [
      "{'businesses': [{'id': 'r_BrIgzYcwo1NAuG9dLbpg', 'alias': 'pai-northern-thai-kitchen-toronto-5', 'name': 'Pai Northern Thai Kitchen', 'image_url': 'https://s3-media3.fl.yelpcdn.com/bphoto/t-g4d_vCAgZH_6pCqjaYWQ/o.jpg', 'is_closed': False, 'url': 'https://www.yelp.com/biz/pai-northern-thai-kitchen-toronto-5?adjust_creative=5uhBD6B7pAFlJ3-6q29p5Q&utm_campaign=yelp_api_v3&utm_medium=api_v3_business_search&utm_source=5uhBD6B7pAFlJ3-6q29p5Q', 'review_count': 2338, 'categories': [{'alias': 'thai', 'title': 'Thai'}], 'rating': 4.5, 'coordinates': {'latitude': 43.647866, 'longitude': -79.3886415}, 'transactions': [], 'price': '$$', 'location': {'address1': '18 Duncan Street', 'address2': '', 'address3': '', 'city': 'Toronto', 'zip_code': 'M5H 3G8', 'country': 'CA', 'state': 'ON', 'display_address': ['18 Duncan Street', 'Toronto, ON M5H 3G8', 'Canada']}, 'phone': '+14169014724', 'display_phone': '+1 416-901-4724', 'distance': 1765.5170714147441}, {'id': 'RtUvSWO_UZ8V3Wpj0n077w', 'alias': 'kinka-izakaya-original-toronto', 'name': 'KINKA IZAKAYA ORIGINAL', 'image_url': 'https://s3-media3.fl.yelpcdn.com/bphoto/nHFVveLBqeiCGy12R2CnRA/o.jpg', 'is_closed': False, 'url': 'https://www.yelp.com/biz/kinka-izakaya-original-toronto?adjust_creative=5uhBD6B7pAFlJ3-6q29p5Q&utm_campaign=yelp_api_v3&utm_medium=api_v3_business_search&utm_source=5uhBD6B7pAFlJ3-6q29p5Q', 'review_count': 1488, 'categories': [{'alias': 'japanese', 'title': 'Japanese'}, {'alias': 'pubs', 'title': 'Pubs'}], 'rating': 4.0, 'coordinates': {'latitude': 43.6604, 'longitude': -79.37896}, 'transactions': ['restaurant_reservation'], 'price': '$$', 'location': {'address1': '398 Church St', 'address2': '', 'address3': '', 'city': 'Toronto', 'zip_code': 'M5B 2A2', 'country': 'CA', 'state': 'ON', 'display_address': ['398 Church St', 'Toronto, ON M5B 2A2', 'Canada']}, 'phone': '+14169770999', 'display_phone': '+1 416-977-0999', 'distance': 1376.927922492149}, {'id': 'iGEvDk6hsizigmXhDKs2Vg', 'alias': 'seven-lives-tacos-y-mariscos-toronto', 'name': 'Seven Lives Tacos Y Mariscos', 'image_url': 'https://s3-media2.fl.yelpcdn.com/bphoto/4vmIs9jTNYlK24wb2WrQLg/o.jpg', 'is_closed': False, 'url': 'https://www.yelp.com/biz/seven-lives-tacos-y-mariscos-toronto?adjust_creative=5uhBD6B7pAFlJ3-6q29p5Q&utm_campaign=yelp_api_v3&utm_medium=api_v3_business_search&utm_source=5uhBD6B7pAFlJ3-6q29p5Q', 'review_count': 1209, 'categories': [{'alias': 'mexican', 'title': 'Mexican'}], 'rating': 4.5, 'coordinates': {'latitude': 43.6543411559068, 'longitude': -79.4004796072841}, 'transactions': [], 'price': '$', 'location': {'address1': '69 Kensington Avenue', 'address2': '', 'address3': '', 'city': 'Toronto', 'zip_code': 'M5T 2K2', 'country': 'CA', 'state': 'ON', 'display_address': ['69 Kensington Avenue', 'Toronto, ON M5T 2K2', 'Canada']}, 'phone': '+14163934636', 'display_phone': '+1 416-393-4636', 'distance': 1026.435650343567}, {'id': 'ro82qYK_AETB8wNGA5Xdzw', 'alias': 'kōjin-toronto', 'name': 'Kōjin', 'image_url': 'https://s3-media1.fl.yelpcdn.com/bphoto/Q-iC7kvCw9G_ZoAIYqbK1w/o.jpg', 'is_closed': False, 'url': 'https://www.yelp.com/biz/k%C5%8Djin-toronto?adjust_creative=5uhBD6B7pAFlJ3-6q29p5Q&utm_campaign=yelp_api_v3&utm_medium=api_v3_business_search&utm_source=5uhBD6B7pAFlJ3-6q29p5Q', 'review_count': 64, 'categories': [{'alias': 'newcanadian', 'title': 'Canadian (New)'}], 'rating': 4.0, 'coordinates': {'latitude': 43.64947, 'longitude': -79.38633}, 'transactions': [], 'location': {'address1': '190 University Ave', 'address2': '', 'address3': None, 'city': 'Toronto', 'zip_code': 'M5H 0A3', 'country': 'CA', 'state': 'ON', 'display_address': ['190 University Ave', 'Toronto, ON M5H 0A3', 'Canada']}, 'phone': '+16472538000', 'display_phone': '+1 647-253-8000', 'distance': 1672.6329830148961}, {'id': 'eKznX8VTfcQrjCqXpeobiw', 'alias': 'rasa-toronto', 'name': 'Rasa', 'image_url': 'https://s3-media1.fl.yelpcdn.com/bphoto/Zo46zVQ_UIizN9dhUbscNw/o.jpg', 'is_closed': False, 'url': 'https://www.yelp.com/biz/rasa-toronto?adjust_creative=5uhBD6B7pAFlJ3-6q29p5Q&utm_campaign=yelp_api_v3&utm_medium=api_v3_business_search&utm_source=5uhBD6B7pAFlJ3-6q29p5Q', 'review_count': 226, 'categories': [{'alias': 'newcanadian', 'title': 'Canadian (New)'}, {'alias': 'tapasmallplates', 'title': 'Tapas/Small Plates'}], 'rating': 4.5, 'coordinates': {'latitude': 43.6627752, 'longitude': -79.4039682}, 'transactions': [], 'price': '$$', 'location': {'address1': '196 Robert Street', 'address2': '', 'address3': '', 'city': 'Toronto', 'zip_code': 'M5S 2K8', 'country': 'CA', 'state': 'ON', 'display_address': ['196 Robert Street', 'Toronto, ON M5S 2K8', 'Canada']}, 'phone': '+16473508221', 'display_phone': '+1 647-350-8221', 'distance': 665.238766271072}, {'id': 'saijdv-vXJrvsCfvr7SZOw', 'alias': 'katsuya-toronto-5', 'name': 'Katsuya', 'image_url': 'https://s3-media2.fl.yelpcdn.com/bphoto/aqFgA2D1kYjUCg6kZFs_-g/o.jpg', 'is_closed': False, 'url': 'https://www.yelp.com/biz/katsuya-toronto-5?adjust_creative=5uhBD6B7pAFlJ3-6q29p5Q&utm_campaign=yelp_api_v3&utm_medium=api_v3_business_search&utm_source=5uhBD6B7pAFlJ3-6q29p5Q', 'review_count': 311, 'categories': [{'alias': 'japanese', 'title': 'Japanese'}, {'alias': 'asianfusion', 'title': 'Asian Fusion'}], 'rating': 4.5, 'coordinates': {'latitude': 43.65995, 'longitude': -79.37882}, 'transactions': [], 'price': '$$', 'location': {'address1': '66 Gerrard Street E', 'address2': 'Unit 100', 'address3': '', 'city': 'Toronto', 'zip_code': 'M5B 2M2', 'country': 'CA', 'state': 'ON', 'display_address': ['66 Gerrard Street E', 'Unit 100', 'Toronto, ON M5B 2M2', 'Canada']}, 'phone': '+14165917756', 'display_phone': '+1 416-591-7756', 'distance': 1395.8082226054298}, {'id': 'mZRKH9ngRY92bI_irrHq6w', 'alias': 'richmond-station-toronto', 'name': 'Richmond Station', 'image_url': 'https://s3-media1.fl.yelpcdn.com/bphoto/0LXXuFVPlXFK7cegdocdBA/o.jpg', 'is_closed': False, 'url': 'https://www.yelp.com/biz/richmond-station-toronto?adjust_creative=5uhBD6B7pAFlJ3-6q29p5Q&utm_campaign=yelp_api_v3&utm_medium=api_v3_business_search&utm_source=5uhBD6B7pAFlJ3-6q29p5Q', 'review_count': 677, 'categories': [{'alias': 'newcanadian', 'title': 'Canadian (New)'}], 'rating': 4.5, 'coordinates': {'latitude': 43.6513729, 'longitude': -79.379285}, 'transactions': [], 'price': '$$$', 'location': {'address1': '1 Richmond Street W', 'address2': '', 'address3': '', 'city': 'Toronto', 'zip_code': 'M5H 3W4', 'country': 'CA', 'state': 'ON', 'display_address': ['1 Richmond Street W', 'Toronto, ON M5H 3W4', 'Canada']}, 'phone': '+16477481444', 'display_phone': '+1 647-748-1444', 'distance': 1840.3095675507125}, {'id': 'Nq0UHjD_cKW9UbIJplQf_g', 'alias': 'pow-wow-cafe-toronto', 'name': 'Pow Wow Cafe', 'image_url': 'https://s3-media3.fl.yelpcdn.com/bphoto/okbhr89d0l32QYDMqzRZww/o.jpg', 'is_closed': False, 'url': 'https://www.yelp.com/biz/pow-wow-cafe-toronto?adjust_creative=5uhBD6B7pAFlJ3-6q29p5Q&utm_campaign=yelp_api_v3&utm_medium=api_v3_business_search&utm_source=5uhBD6B7pAFlJ3-6q29p5Q', 'review_count': 100, 'categories': [{'alias': 'newcanadian', 'title': 'Canadian (New)'}, {'alias': 'cafes', 'title': 'Cafes'}], 'rating': 4.5, 'coordinates': {'latitude': 43.65412, 'longitude': -79.40151}, 'transactions': [], 'price': '$$', 'location': {'address1': '213 Augusta Avenue', 'address2': '', 'address3': None, 'city': 'Toronto', 'zip_code': 'M5T 2L4', 'country': 'CA', 'state': 'ON', 'display_address': ['213 Augusta Avenue', 'Toronto, ON M5T 2L4', 'Canada']}, 'phone': '+14165517717', 'display_phone': '+1 416-551-7717', 'distance': 1078.8473455581634}, {'id': 'KpEu3vvj1ruoID0T3lmD4Q', 'alias': 'mira-toronto', 'name': 'Mira', 'image_url': 'https://s3-media3.fl.yelpcdn.com/bphoto/nX1Lfm-8uFteGIsKJiTHUw/o.jpg', 'is_closed': False, 'url': 'https://www.yelp.com/biz/mira-toronto?adjust_creative=5uhBD6B7pAFlJ3-6q29p5Q&utm_campaign=yelp_api_v3&utm_medium=api_v3_business_search&utm_source=5uhBD6B7pAFlJ3-6q29p5Q', 'review_count': 137, 'categories': [{'alias': 'peruvian', 'title': 'Peruvian'}], 'rating': 4.5, 'coordinates': {'latitude': 43.64417, 'longitude': -79.39639}, 'transactions': [], 'price': '$$', 'location': {'address1': '420A Wellington Street W', 'address2': None, 'address3': None, 'city': 'Toronto', 'zip_code': 'M5V 1E3', 'country': 'CA', 'state': 'ON', 'display_address': ['420A Wellington Street W', 'Toronto, ON M5V 1E3', 'Canada']}, 'phone': '+16479513331', 'display_phone': '+1 647-951-3331', 'distance': 2094.4751429317107}, {'id': 'kYD9E14AijONhJ7rFsyLrg', 'alias': 'the-elm-tree-restaurant-toronto', 'name': 'The Elm Tree Restaurant', 'image_url': 'https://s3-media2.fl.yelpcdn.com/bphoto/dvmohg6QoeOY_aXXlkYB1Q/o.jpg', 'is_closed': False, 'url': 'https://www.yelp.com/biz/the-elm-tree-restaurant-toronto?adjust_creative=5uhBD6B7pAFlJ3-6q29p5Q&utm_campaign=yelp_api_v3&utm_medium=api_v3_business_search&utm_source=5uhBD6B7pAFlJ3-6q29p5Q', 'review_count': 234, 'categories': [{'alias': 'mediterranean', 'title': 'Mediterranean'}, {'alias': 'modern_european', 'title': 'Modern European'}], 'rating': 4.5, 'coordinates': {'latitude': 43.6572873032448, 'longitude': -79.3836965529587}, 'transactions': [], 'price': '$$', 'location': {'address1': '43 Elm Street', 'address2': '', 'address3': '', 'city': 'Toronto', 'zip_code': 'M5G 1H1', 'country': 'CA', 'state': 'ON', 'display_address': ['43 Elm Street', 'Toronto, ON M5G 1H1', 'Canada']}, 'phone': '+14169017339', 'display_phone': '+1 416-901-7339', 'distance': 1149.73487421455}, {'id': 'Yl2TN9c23ZGLUBSD9ks5Uw', 'alias': 'byblos-toronto-2', 'name': 'Byblos', 'image_url': 'https://s3-media1.fl.yelpcdn.com/bphoto/CaEurrlIPHIMfztViCrlUQ/o.jpg', 'is_closed': False, 'url': 'https://www.yelp.com/biz/byblos-toronto-2?adjust_creative=5uhBD6B7pAFlJ3-6q29p5Q&utm_campaign=yelp_api_v3&utm_medium=api_v3_business_search&utm_source=5uhBD6B7pAFlJ3-6q29p5Q', 'review_count': 737, 'categories': [{'alias': 'mediterranean', 'title': 'Mediterranean'}, {'alias': 'mideastern', 'title': 'Middle Eastern'}], 'rating': 4.5, 'coordinates': {'latitude': 43.647546, 'longitude': -79.388123}, 'transactions': [], 'price': '$$$', 'location': {'address1': '11 Duncan Street', 'address2': '', 'address3': '', 'city': 'Toronto', 'zip_code': 'M5V 3M2', 'country': 'CA', 'state': 'ON', 'display_address': ['11 Duncan Street', 'Toronto, ON M5V 3M2', 'Canada']}, 'phone': '+16476600909', 'display_phone': '+1 647-660-0909', 'distance': 1812.8428294851035}, {'id': 'G24p1oGGfY3t-m8Z2lPCaQ', 'alias': 'tinuno-toronto', 'name': 'Tinuno', 'image_url': 'https://s3-media2.fl.yelpcdn.com/bphoto/XXLHhJ_KdThmzYfkvXuGdA/o.jpg', 'is_closed': False, 'url': 'https://www.yelp.com/biz/tinuno-toronto?adjust_creative=5uhBD6B7pAFlJ3-6q29p5Q&utm_campaign=yelp_api_v3&utm_medium=api_v3_business_search&utm_source=5uhBD6B7pAFlJ3-6q29p5Q', 'review_count': 409, 'categories': [{'alias': 'filipino', 'title': 'Filipino'}], 'rating': 4.0, 'coordinates': {'latitude': 43.6711430082347, 'longitude': -79.374853497263}, 'transactions': ['restaurant_reservation'], 'price': '$$', 'location': {'address1': '31 Howard Street', 'address2': '', 'address3': None, 'city': 'Toronto', 'zip_code': 'M4X 1J6', 'country': 'CA', 'state': 'ON', 'display_address': ['31 Howard Street', 'Toronto, ON M4X 1J6', 'Canada']}, 'phone': '+16473439294', 'display_phone': '+1 647-343-9294', 'distance': 1910.940975465841}, {'id': 'bcocXdKPSXC0LiRGlBM7mg', 'alias': 'tsujiri-patisserie-toronto-2', 'name': 'Tsujiri Patisserie', 'image_url': 'https://s3-media4.fl.yelpcdn.com/bphoto/CQ76mi4QTCRO_aMNENleOQ/o.jpg', 'is_closed': False, 'url': 'https://www.yelp.com/biz/tsujiri-patisserie-toronto-2?adjust_creative=5uhBD6B7pAFlJ3-6q29p5Q&utm_campaign=yelp_api_v3&utm_medium=api_v3_business_search&utm_source=5uhBD6B7pAFlJ3-6q29p5Q', 'review_count': 5, 'categories': [{'alias': 'desserts', 'title': 'Desserts'}, {'alias': 'bakeries', 'title': 'Bakeries'}, {'alias': 'japanese', 'title': 'Japanese'}], 'rating': 4.5, 'coordinates': {'latitude': 43.66549, 'longitude': -79.38501}, 'transactions': [], 'location': {'address1': '596 Yonge St', 'address2': None, 'address3': '', 'city': 'Toronto', 'zip_code': 'M4Y 1Z3', 'country': 'CA', 'state': 'ON', 'display_address': ['596 Yonge St', 'Toronto, ON M4Y 1Z3', 'Canada']}, 'phone': '+14167920419', 'display_phone': '+1 416-792-0419', 'distance': 903.7113729167321}, {'id': 'qR4EIktJfQKc4rnKgBzvtw', 'alias': 'gyubee-japanese-grill-bloor-toronto', 'name': 'Gyubee Japanese Grill - Bloor', 'image_url': 'https://s3-media3.fl.yelpcdn.com/bphoto/W2n80UrBZ017elXQ9MKD5A/o.jpg', 'is_closed': False, 'url': 'https://www.yelp.com/biz/gyubee-japanese-grill-bloor-toronto?adjust_creative=5uhBD6B7pAFlJ3-6q29p5Q&utm_campaign=yelp_api_v3&utm_medium=api_v3_business_search&utm_source=5uhBD6B7pAFlJ3-6q29p5Q', 'review_count': 148, 'categories': [{'alias': 'bbq', 'title': 'Barbeque'}, {'alias': 'japanese', 'title': 'Japanese'}], 'rating': 4.0, 'coordinates': {'latitude': 43.66716, 'longitude': -79.40047}, 'transactions': [], 'price': '$$', 'location': {'address1': '335 Bloor Street W', 'address2': '', 'address3': None, 'city': 'Toronto', 'zip_code': 'M5S 1W7', 'country': 'CA', 'state': 'ON', 'display_address': ['335 Bloor Street W', 'Toronto, ON M5S 1W7', 'Canada']}, 'phone': '+14165519767', 'display_phone': '+1 416-551-9767', 'distance': 617.4542710681627}, {'id': 'e41TP5cXZqSrz50xCBJqZw', 'alias': 'insomnia-restaurant-and-lounge-toronto', 'name': 'Insomnia Restaurant & Lounge', 'image_url': 'https://s3-media4.fl.yelpcdn.com/bphoto/rwQeDavE6_e16b8gdV_smw/o.jpg', 'is_closed': False, 'url': 'https://www.yelp.com/biz/insomnia-restaurant-and-lounge-toronto?adjust_creative=5uhBD6B7pAFlJ3-6q29p5Q&utm_campaign=yelp_api_v3&utm_medium=api_v3_business_search&utm_source=5uhBD6B7pAFlJ3-6q29p5Q', 'review_count': 846, 'categories': [{'alias': 'lounges', 'title': 'Lounges'}, {'alias': 'breakfast_brunch', 'title': 'Breakfast & Brunch'}, {'alias': 'comfortfood', 'title': 'Comfort Food'}], 'rating': 4.0, 'coordinates': {'latitude': 43.6651314099312, 'longitude': -79.4108515895492}, 'transactions': ['restaurant_reservation'], 'price': '$$', 'location': {'address1': '563 Bloor Street W', 'address2': '', 'address3': '', 'city': 'Toronto', 'zip_code': 'M5S 1Y6', 'country': 'CA', 'state': 'ON', 'display_address': ['563 Bloor Street W', 'Toronto, ON M5S 1Y6', 'Canada']}, 'phone': '+14165883907', 'display_phone': '+1 416-588-3907', 'distance': 1243.7701995841653}, {'id': 'QTIG9Dm1IpYuwCLOcFyDCw', 'alias': 'bauzza-bauzza-toronto', 'name': 'BauZza BauZza', 'image_url': 'https://s3-media4.fl.yelpcdn.com/bphoto/SlRDP33Cpq1B0mzW4G72BA/o.jpg', 'is_closed': False, 'url': 'https://www.yelp.com/biz/bauzza-bauzza-toronto?adjust_creative=5uhBD6B7pAFlJ3-6q29p5Q&utm_campaign=yelp_api_v3&utm_medium=api_v3_business_search&utm_source=5uhBD6B7pAFlJ3-6q29p5Q', 'review_count': 14, 'categories': [{'alias': 'soup', 'title': 'Soup'}, {'alias': 'chinese', 'title': 'Chinese'}], 'rating': 4.0, 'coordinates': {'latitude': 43.65798, 'longitude': -79.40163}, 'transactions': [], 'location': {'address1': '298 College St', 'address2': '', 'address3': None, 'city': 'Toronto', 'zip_code': 'M5T 1R9', 'country': 'CA', 'state': 'ON', 'display_address': ['298 College St', 'Toronto, ON M5T 1R9', 'Canada']}, 'phone': '', 'display_phone': '', 'distance': 726.8542946832943}, {'id': 'HUYEadSbGSQNHXFmT2Ujjw', 'alias': 'manpuku-japanese-eatery-toronto', 'name': 'Manpuku Japanese Eatery', 'image_url': 'https://s3-media1.fl.yelpcdn.com/bphoto/lPfzSgHJYzc7zdoh3GqrOw/o.jpg', 'is_closed': False, 'url': 'https://www.yelp.com/biz/manpuku-japanese-eatery-toronto?adjust_creative=5uhBD6B7pAFlJ3-6q29p5Q&utm_campaign=yelp_api_v3&utm_medium=api_v3_business_search&utm_source=5uhBD6B7pAFlJ3-6q29p5Q', 'review_count': 418, 'categories': [{'alias': 'japanese', 'title': 'Japanese'}, {'alias': 'noodles', 'title': 'Noodles'}], 'rating': 4.0, 'coordinates': {'latitude': 43.65406, 'longitude': -79.39101}, 'transactions': [], 'price': '$', 'location': {'address1': '105 McCaul Street', 'address2': 'Unit 29-31', 'address3': '', 'city': 'Toronto', 'zip_code': 'M5T 2X4', 'country': 'CA', 'state': 'ON', 'display_address': ['105 McCaul Street', 'Unit 29-31', 'Toronto, ON M5T 2X4', 'Canada']}, 'phone': '+14169796763', 'display_phone': '+1 416-979-6763', 'distance': 1097.636407820303}, {'id': '3FVpx9ksZLgOrYy1I05Ypg', 'alias': 'the-annex-food-hall-toronto-2', 'name': 'The Annex Food Hall', 'image_url': 'https://s3-media1.fl.yelpcdn.com/bphoto/tEr5M4Ur-6HGpDNKg_cGyg/o.jpg', 'is_closed': False, 'url': 'https://www.yelp.com/biz/the-annex-food-hall-toronto-2?adjust_creative=5uhBD6B7pAFlJ3-6q29p5Q&utm_campaign=yelp_api_v3&utm_medium=api_v3_business_search&utm_source=5uhBD6B7pAFlJ3-6q29p5Q', 'review_count': 16, 'categories': [{'alias': 'food_court', 'title': 'Food Court'}], 'rating': 4.0, 'coordinates': {'latitude': 43.6662561448828, 'longitude': -79.4065094072386}, 'transactions': [], 'location': {'address1': '384 Bloor Street W', 'address2': '', 'address3': None, 'city': 'Toronto', 'zip_code': 'M5S 1X2', 'country': 'CA', 'state': 'ON', 'display_address': ['384 Bloor Street W', 'Toronto, ON M5S 1X2', 'Canada']}, 'phone': '', 'display_phone': '', 'distance': 946.1866995416741}, {'id': 'crstB-H5rOfbXhV8pX0e6g', 'alias': 'ramen-isshin-toronto', 'name': 'Ramen Isshin', 'image_url': 'https://s3-media2.fl.yelpcdn.com/bphoto/1fRssiE9841Zu1iW-sDKlg/o.jpg', 'is_closed': False, 'url': 'https://www.yelp.com/biz/ramen-isshin-toronto?adjust_creative=5uhBD6B7pAFlJ3-6q29p5Q&utm_campaign=yelp_api_v3&utm_medium=api_v3_business_search&utm_source=5uhBD6B7pAFlJ3-6q29p5Q', 'review_count': 539, 'categories': [{'alias': 'ramen', 'title': 'Ramen'}], 'rating': 4.5, 'coordinates': {'latitude': 43.65634, 'longitude': -79.40689}, 'transactions': [], 'price': '$$', 'location': {'address1': '421 College Street', 'address2': None, 'address3': '', 'city': 'Toronto', 'zip_code': 'M5T 1T1', 'country': 'CA', 'state': 'ON', 'display_address': ['421 College Street', 'Toronto, ON M5T 1T1', 'Canada']}, 'phone': '+14163674013', 'display_phone': '+1 416-367-4013', 'distance': 1158.0502460568282}, {'id': 'eD-XLSo-j8uIoTnIlrG8YA', 'alias': 'juicy-dumpling-toronto', 'name': 'Juicy Dumpling', 'image_url': 'https://s3-media2.fl.yelpcdn.com/bphoto/NH-bwVMONd9PydsWDqGEIw/o.jpg', 'is_closed': False, 'url': 'https://www.yelp.com/biz/juicy-dumpling-toronto?adjust_creative=5uhBD6B7pAFlJ3-6q29p5Q&utm_campaign=yelp_api_v3&utm_medium=api_v3_business_search&utm_source=5uhBD6B7pAFlJ3-6q29p5Q', 'review_count': 205, 'categories': [{'alias': 'dimsum', 'title': 'Dim Sum'}, {'alias': 'dumplings', 'title': 'Dumplings'}], 'rating': 4.0, 'coordinates': {'latitude': 43.6527250786074, 'longitude': -79.3986365944147}, 'transactions': [], 'location': {'address1': '280 Spadina Ave', 'address2': 'Unit M-N', 'address3': None, 'city': 'Toronto', 'zip_code': 'M5T 0A1', 'country': 'CA', 'state': 'ON', 'display_address': ['280 Spadina Ave', 'Unit M-N', 'Toronto, ON M5T 0A1', 'Canada']}, 'phone': '+16473525678', 'display_phone': '+1 647-352-5678', 'distance': 1155.7990168500316}], 'total': 7300, 'region': {'center': {'longitude': -79.3957, 'latitude': 43.6629}}}\n"
     ]
    }
   ],
   "source": [
    "url = 'https://api.yelp.com/v3/businesses/search'\n",
    "headers = {'Authorization': 'Bearer {}'.format(API_Key),}\n",
    "\n",
    "#define some business search variables\n",
    "bus_term = 'restaurants'\n",
    "bus_location = 'Toronto,ON'\n",
    "bus_limit = 50\n",
    "#set the search radius equal to 2 miles around the location\n",
    "bus_radius = 200\n",
    "\n",
    "url_params = {\n",
    "                'term': bus_term.replace(' ', '+'),\n",
    "                #'location': bus_location.replace(' ', '+'),\n",
    "                'latitude': uoft_lat,\n",
    "                'longitude': uoft_lon\n",
    "                #'limit': bus_radius#\n",
    "            }\n",
    "\n",
    "\n",
    "try:\n",
    "    business_response = requests.get(url, headers=headers, params=url_params)\n",
    "    business_data = business_response.json()\n",
    "\n",
    "    print(business_data)\n",
    "            \n",
    "        \n",
    "except:\n",
    "    print('EXCEPTION')\n",
    "   "
   ]
  },
  {
   "cell_type": "code",
   "execution_count": null,
   "metadata": {},
   "outputs": [],
   "source": []
  }
 ],
 "metadata": {
  "kernelspec": {
   "display_name": "Python 3",
   "language": "python",
   "name": "python3"
  },
  "language_info": {
   "codemirror_mode": {
    "name": "ipython",
    "version": 3
   },
   "file_extension": ".py",
   "mimetype": "text/x-python",
   "name": "python",
   "nbconvert_exporter": "python",
   "pygments_lexer": "ipython3",
   "version": "3.7.1"
  }
 },
 "nbformat": 4,
 "nbformat_minor": 2
}
